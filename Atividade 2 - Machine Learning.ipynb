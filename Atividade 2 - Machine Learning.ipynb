{
 "cells": [
  {
   "cell_type": "markdown",
   "id": "f944812e",
   "metadata": {},
   "source": [
    "# Atividade 2 - Curso Básico Machine Learning"
   ]
  },
  {
   "cell_type": "markdown",
   "id": "de155624",
   "metadata": {},
   "source": [
    "Nome: Luan Augusto Sousa Nascimento"
   ]
  },
  {
   "cell_type": "markdown",
   "id": "b518ce3a",
   "metadata": {},
   "source": [
    "### Questão 1"
   ]
  },
  {
   "cell_type": "code",
   "execution_count": 8,
   "id": "d131013f",
   "metadata": {},
   "outputs": [
    {
     "name": "stdout",
     "output_type": "stream",
     "text": [
      "Escreva os números separados por espaço:3 4 9 8\n"
     ]
    }
   ],
   "source": [
    "lista=input(\"Escreva os números separados por espaço:\")"
   ]
  },
  {
   "cell_type": "code",
   "execution_count": 14,
   "id": "6aeed2a3",
   "metadata": {},
   "outputs": [
    {
     "data": {
      "text/plain": [
       "'os números ímpares são:[3, 9]'"
      ]
     },
     "execution_count": 14,
     "metadata": {},
     "output_type": "execute_result"
    }
   ],
   "source": [
    "numeros=lista.split()\n",
    "numeros=[int(i) for i in numeros]\n",
    "def impar(lista):\n",
    "    impares=[]\n",
    "    for i in numeros:\n",
    "        if i%2==1:\n",
    "            impares.append(i)\n",
    "    return(f\"os números ímpares são:{impares}\")\n",
    "impar(numeros)"
   ]
  },
  {
   "cell_type": "markdown",
   "id": "5e63bb01",
   "metadata": {},
   "source": [
    "### Questão 2"
   ]
  },
  {
   "cell_type": "code",
   "execution_count": 12,
   "id": "1a1d7d4e",
   "metadata": {},
   "outputs": [
    {
     "name": "stdout",
     "output_type": "stream",
     "text": [
      "Escreva os números separados por espaço:1 2 3 6 8 9 11\n"
     ]
    }
   ],
   "source": [
    "lista2=input(\"Escreva os números separados por espaço:\")"
   ]
  },
  {
   "cell_type": "code",
   "execution_count": 35,
   "id": "ee800bea",
   "metadata": {},
   "outputs": [],
   "source": [
    "numeros2=lista.split()\n",
    "numeros2=[int(i) for i in numeros2]"
   ]
  },
  {
   "cell_type": "code",
   "execution_count": 42,
   "id": "1fe5d184",
   "metadata": {},
   "outputs": [],
   "source": [
    "def primo(n):\n",
    "    if n <= 1:\n",
    "        return False\n",
    "    if n <= 3:\n",
    "        return True\n",
    "    if n % 2 == 0 or n % 3 == 0:\n",
    "        return False\n",
    "    i = 5\n",
    "    while i * i <= n:\n",
    "        if n % i == 0 or n % (i + 2) == 0:\n",
    "            return False\n",
    "        i += 6\n",
    "    return True\n",
    "\n",
    "def filtra_primos(numeros):\n",
    "    return(f\"Os números primos são {[num for num in numeros if primo(num)]}\")"
   ]
  },
  {
   "cell_type": "code",
   "execution_count": 43,
   "id": "39890ce1",
   "metadata": {},
   "outputs": [
    {
     "data": {
      "text/plain": [
       "'Os números primos são [3]'"
      ]
     },
     "execution_count": 43,
     "metadata": {},
     "output_type": "execute_result"
    }
   ],
   "source": [
    "filtra_primos(numeros2)"
   ]
  },
  {
   "cell_type": "markdown",
   "id": "426d1245",
   "metadata": {},
   "source": [
    "### Questão 3"
   ]
  },
  {
   "cell_type": "code",
   "execution_count": 44,
   "id": "d30ed17f",
   "metadata": {},
   "outputs": [
    {
     "name": "stdout",
     "output_type": "stream",
     "text": [
      "Escreva a primeira lista9 8 maçã laranja\n",
      "Escreva a segunda lista8 tangerina maçã\n"
     ]
    }
   ],
   "source": [
    "lista1=input(\"Escreva a primeira lista\").split()\n",
    "lista2=input(\"Escreva a segunda lista\").split()"
   ]
  },
  {
   "cell_type": "code",
   "execution_count": 46,
   "id": "24294df4",
   "metadata": {},
   "outputs": [],
   "source": [
    "def valida(lista1,lista2):\n",
    "    iguais=[]\n",
    "    for i in lista1:\n",
    "        if i in lista2:\n",
    "            iguais.append(i)\n",
    "    return (f\"Os elementos presentes nas duas listas são:{iguais}\")"
   ]
  },
  {
   "cell_type": "code",
   "execution_count": 47,
   "id": "af17646f",
   "metadata": {},
   "outputs": [
    {
     "data": {
      "text/plain": [
       "\"Os elementos presentes nas duas listas são:['8', 'maçã']\""
      ]
     },
     "execution_count": 47,
     "metadata": {},
     "output_type": "execute_result"
    }
   ],
   "source": [
    "valida(lista1,lista2)"
   ]
  },
  {
   "cell_type": "markdown",
   "id": "17c60e80",
   "metadata": {},
   "source": [
    "### Questão 4"
   ]
  },
  {
   "cell_type": "code",
   "execution_count": 66,
   "id": "2d248005",
   "metadata": {},
   "outputs": [
    {
     "name": "stdout",
     "output_type": "stream",
     "text": [
      "Digite uma lista de números inteiros1 3\n"
     ]
    }
   ],
   "source": [
    "numeros=input(\"Digite uma lista de números inteiros\").split()\n",
    "numeros=[int(i) for i in numeros]"
   ]
  },
  {
   "cell_type": "code",
   "execution_count": 67,
   "id": "78fc552e",
   "metadata": {},
   "outputs": [],
   "source": [
    "def segundo_maior(x):\n",
    "\n",
    "    if len(x)==1:\n",
    "        return(\"A lista só possui um número\")\n",
    "    else:\n",
    "        x.sort(reverse=True)\n",
    "        return x[1]"
   ]
  },
  {
   "cell_type": "code",
   "execution_count": 68,
   "id": "ab462259",
   "metadata": {},
   "outputs": [
    {
     "data": {
      "text/plain": [
       "1"
      ]
     },
     "execution_count": 68,
     "metadata": {},
     "output_type": "execute_result"
    }
   ],
   "source": [
    "segundo_maior(numeros)"
   ]
  },
  {
   "cell_type": "markdown",
   "id": "491777d3",
   "metadata": {},
   "source": [
    "### Questão 5"
   ]
  },
  {
   "cell_type": "code",
   "execution_count": 73,
   "id": "9c14f655",
   "metadata": {},
   "outputs": [],
   "source": [
    "nomes=[(\"Marcela\",17),(\"Leonardo\",15),(\"Vitória\",19),(\"Luan\",18)]"
   ]
  },
  {
   "cell_type": "code",
   "execution_count": 74,
   "id": "18f641c9",
   "metadata": {},
   "outputs": [],
   "source": [
    "def ordem_alf(nomes):\n",
    "    nomes.sort()\n",
    "    return nomes"
   ]
  },
  {
   "cell_type": "code",
   "execution_count": 75,
   "id": "fbcbab9e",
   "metadata": {},
   "outputs": [
    {
     "data": {
      "text/plain": [
       "[('Leonardo', 15), ('Luan', 18), ('Marcela', 17), ('Vitória', 19)]"
      ]
     },
     "execution_count": 75,
     "metadata": {},
     "output_type": "execute_result"
    }
   ],
   "source": [
    "ordem_alf(nomes)"
   ]
  },
  {
   "cell_type": "markdown",
   "id": "35110d9c",
   "metadata": {},
   "source": [
    "### Questão 6"
   ]
  },
  {
   "cell_type": "markdown",
   "id": "af74a379",
   "metadata": {},
   "source": [
    "import matplotlib.pyplot as plt \\\n",
    "import numpy as np\\\n",
    "fig, axs = plt.subplots(ncols=2, nrows=2, figsize=(5.5, 3.5),\\\n",
    " layout=\"constrained\")\\\n",
    "for row in range(2):\\\n",
    " for col in range(2):\\\n",
    " axs[row, col].annotate(f'axs[{row}, {col}]', (0.5, 0.5),\\\n",
    " transform=axs[row, col].transAxes,\\\n",
    " ha='center', va='center', fontsize=18,\\\n",
    " color='darkgrey')\\\n",
    "fig.suptitle('plt.subplots()')"
   ]
  },
  {
   "cell_type": "markdown",
   "id": "b5407b9f",
   "metadata": {},
   "source": [
    "### Questão 7"
   ]
  },
  {
   "cell_type": "markdown",
   "id": "5cdc0b6d",
   "metadata": {},
   "source": [
    "import numpy as np\\\n",
    "import matplotlib as mpl\\\n",
    "import matplotlib.pyplot as plt\\\n",
    "\\\n",
    "x = np.linspace(-2 * np.pi, 2 * np.pi, 100)\\\n",
    "y = np.sin(x)\\\n",
    "\\\n",
    "fig, ax = plt.subplots()\\\n",
    "ax.plot(x, y)"
   ]
  },
  {
   "cell_type": "markdown",
   "id": "08a143d7",
   "metadata": {},
   "source": [
    "### Questão 8"
   ]
  },
  {
   "cell_type": "markdown",
   "id": "4cb50e56",
   "metadata": {},
   "source": [
    "Para ler o arquivo CSV usa-se a função read_csv() e para exibir as primeiras linhas usa-se a função head()."
   ]
  },
  {
   "cell_type": "markdown",
   "id": "7b0db350",
   "metadata": {},
   "source": [
    "### Questão 9"
   ]
  },
  {
   "cell_type": "markdown",
   "id": "e1d62b18",
   "metadata": {},
   "source": [
    "Utiliza-se a função loc[], com a condição entre []."
   ]
  },
  {
   "cell_type": "markdown",
   "id": "a163a57b",
   "metadata": {},
   "source": [
    "### Questão 10"
   ]
  },
  {
   "cell_type": "markdown",
   "id": "602df07a",
   "metadata": {},
   "source": [
    "Podemos utilizar a função isna() para identificar os valores ausentes, utilizar a função dropna() para remover os valores ausentes, utilizar a função fillna() para preencher os valores ausentes com outro valor e a função isna() agregada com a sum() (isna().sum()) para contar os valores ausentes."
   ]
  },
  {
   "cell_type": "code",
   "execution_count": null,
   "id": "9fe94f22",
   "metadata": {},
   "outputs": [],
   "source": []
  }
 ],
 "metadata": {
  "kernelspec": {
   "display_name": "Python 3 (ipykernel)",
   "language": "python",
   "name": "python3"
  },
  "language_info": {
   "codemirror_mode": {
    "name": "ipython",
    "version": 3
   },
   "file_extension": ".py",
   "mimetype": "text/x-python",
   "name": "python",
   "nbconvert_exporter": "python",
   "pygments_lexer": "ipython3",
   "version": "3.9.12"
  }
 },
 "nbformat": 4,
 "nbformat_minor": 5
}
